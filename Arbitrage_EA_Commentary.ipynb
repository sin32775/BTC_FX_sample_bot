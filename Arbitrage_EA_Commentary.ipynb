{
 "cells": [
  {
   "cell_type": "markdown",
   "metadata": {
    "heading_collapsed": true
   },
   "source": [
    "# 合成通貨裁定（アービトラージ）ＥＡ 取扱い説明書\n",
    "\n",
    "まず合成通貨のパターンを構成する通貨を選択します。\n",
    "\n",
    "どんなに採用通貨ペアが少ないＦＸ業者でも利用できるように\n",
    "\n",
    "主要７通貨ペアを採用します。\n",
    "\n",
    "ドル、円、ポンド、ユーロ、カナダドル、オーストラリアドル、スイスフラン\n",
    "です。\n",
    "\n",
    "7つの通貨の通過ペアパターンは、7C2=21通りあります。\n",
    "\n",
    "それぞれに対して、21x(7-2)通りの合成通貨パターンを書きだします。\n",
    "\n",
    "AskとBidの2通りのレートが存在するので、\n",
    "\n",
    "それぞれの意味合いが消失しないように、AskとBidを選択して合成通貨を作成します。\n",
    "![ロゴ](http://localhost:8888/tree/Automatic-transaction_Fx-master/1.png)\n",
    "\n",
    "\n",
    "かなり見にくいですが、\n",
    "\n",
    "このような表になります。\n",
    "\n",
    "そして、\n",
    "レートの差が大きくなった瞬間に、そのレート差が埋まる方向に両建てをします。\n",
    "\n",
    "本当に一瞬なので、この処理はマルチタスクで行います。\n",
    "\n",
    "といっても、ＭＴ４にはマルチタスク専用の機能はないので、\n",
    "\n",
    "グローバル変数を使ってデータの受け渡しをします。\n",
    "\n",
    "同じチャートを4つ開き、それぞれにこのＥＡをセットします。\n",
    "\n",
    "１～３回目までは、左上にコメントが表示され、\n",
    "\n",
    "4回目に画像の表が表示されます。\n",
    "\n",
    "表がでているチャートのＥＡがメインの計算を行い、\n",
    "\n",
    "その他のＥＡはオーダーの管理を行います。\n",
    "\n",
    "もともとは４つそれぞれ、\n",
    "\n",
    "別々のＥＡだったのですが、\n",
    "\n",
    "設定する側が混乱する元になるので、\n",
    "\n",
    "すべて統合しました。\n",
    "\n",
    "そのため、ソースコードはＥＡ4つ分になっています。\n",
    "\n",
    "パラメータ設定の「DifferencePoint」がエントリーを実行するpips差を表し、\n",
    "\n",
    "合成通貨とメイン通貨ペアのレート差がこの設定値以上になると、\n",
    "\n",
    "エントリーを実行します。\n",
    "\n",
    "スピード勝負なので、高速なコンピュータ＆高速ネットワーク勝負です。"
   ]
  },
  {
   "cell_type": "code",
   "execution_count": null,
   "metadata": {
    "hidden": true
   },
   "outputs": [],
   "source": []
  }
 ],
 "metadata": {
  "hide_input": false,
  "kernelspec": {
   "display_name": "Python 3",
   "language": "python",
   "name": "python3"
  },
  "language_info": {
   "codemirror_mode": {
    "name": "ipython",
    "version": 3
   },
   "file_extension": ".py",
   "mimetype": "text/x-python",
   "name": "python",
   "nbconvert_exporter": "python",
   "pygments_lexer": "ipython3",
   "version": "3.7.5"
  },
  "latex_envs": {
   "LaTeX_envs_menu_present": true,
   "autoclose": false,
   "autocomplete": true,
   "bibliofile": "biblio.bib",
   "cite_by": "apalike",
   "current_citInitial": 1,
   "eqLabelWithNumbers": true,
   "eqNumInitial": 1,
   "hotkeys": {
    "equation": "Ctrl-E",
    "itemize": "Ctrl-I"
   },
   "labels_anchors": false,
   "latex_user_defs": false,
   "report_style_numbering": false,
   "user_envs_cfg": false
  },
  "nbTranslate": {
   "displayLangs": [
    "*"
   ],
   "hotkey": "alt-t",
   "langInMainMenu": true,
   "sourceLang": "en",
   "targetLang": "fr",
   "useGoogleTranslate": true
  },
  "toc": {
   "base_numbering": 1,
   "nav_menu": {},
   "number_sections": true,
   "sideBar": true,
   "skip_h1_title": false,
   "title_cell": "Table of Contents",
   "title_sidebar": "Contents",
   "toc_cell": false,
   "toc_position": {},
   "toc_section_display": true,
   "toc_window_display": false
  },
  "varInspector": {
   "cols": {
    "lenName": 16,
    "lenType": 16,
    "lenVar": 40
   },
   "kernels_config": {
    "python": {
     "delete_cmd_postfix": "",
     "delete_cmd_prefix": "del ",
     "library": "var_list.py",
     "varRefreshCmd": "print(var_dic_list())"
    },
    "r": {
     "delete_cmd_postfix": ") ",
     "delete_cmd_prefix": "rm(",
     "library": "var_list.r",
     "varRefreshCmd": "cat(var_dic_list()) "
    }
   },
   "types_to_exclude": [
    "module",
    "function",
    "builtin_function_or_method",
    "instance",
    "_Feature"
   ],
   "window_display": false
  }
 },
 "nbformat": 4,
 "nbformat_minor": 2
}
